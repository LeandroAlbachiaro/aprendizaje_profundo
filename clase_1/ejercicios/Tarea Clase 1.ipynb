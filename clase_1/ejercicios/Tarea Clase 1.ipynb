{
 "cells": [
  {
   "cell_type": "code",
   "execution_count": 148,
   "metadata": {},
   "outputs": [],
   "source": [
    "import numpy as np\n",
    "import random\n",
    "from matplotlib import pyplot as plt"
   ]
  },
  {
   "cell_type": "code",
   "execution_count": 149,
   "metadata": {},
   "outputs": [
    {
     "data": {
      "text/plain": [
       "(1, 3)"
      ]
     },
     "execution_count": 149,
     "metadata": {},
     "output_type": "execute_result"
    }
   ],
   "source": [
    "# Inicializar los vectores\n",
    "W1 = np.zeros((3, 1)) # vector de pesos de la neurona 1: W1,1; W1,2; b1\n",
    "W2 = np.zeros((3, 1)) # vector de pesos de la neurona 2: W2,1; W2,2; b2\n",
    "W3 = np.zeros((3, 1)) # vector de pesos de la neurona 3: W3,1; W3,2; b3\n",
    "\n",
    "random.seed(42)  # Establecer la semilla a un número específico\n",
    "\n",
    "# Llenar los vectores con valores aleatorios entre 0 y 1\n",
    "for i in range(3):\n",
    "    W1[i] = random.uniform(0, 1)\n",
    "    W2[i] = random.uniform(0, 1)\n",
    "    W3[i] = random.uniform(0, 1)\n",
    "\n",
    "W1 = W1.T\n",
    "W2 = W2.T\n",
    "W3 = W3.T\n",
    "\n",
    "W1.shape"
   ]
  },
  {
   "cell_type": "code",
   "execution_count": 150,
   "metadata": {},
   "outputs": [],
   "source": [
    "# Dataset\n",
    "X = np.array([[0,0],[0,1],[1,0],[1,1]])\n",
    "y = np.array([0,1,1,0])"
   ]
  },
  {
   "cell_type": "code",
   "execution_count": 151,
   "metadata": {},
   "outputs": [],
   "source": [
    "def sigmoid(x):\n",
    "        g_x = 1 / (1 + np.exp(-x))\n",
    "        return g_x"
   ]
  },
  {
   "cell_type": "code",
   "execution_count": 152,
   "metadata": {},
   "outputs": [],
   "source": [
    "error = [0.0,0.0,0.0,0.0]\n",
    "Grad_W1 = [0.0,0.0,0.0]\n",
    "Grad_W2 = [0.0,0.0,0.0]\n",
    "Grad_W3 = [0.0,0.0,0.0]\n",
    "lr = 0.1\n",
    "mse = []\n",
    "\n",
    "for epoca in range (700):\n",
    "    i = 0\n",
    "\n",
    "    for X1, y1 in zip(X, y): \n",
    "        Z1 = W1[:,0] * X1[0] + W1[:,1] * X1[1] + W1[:,2]\n",
    "        Z2 = W2[:,0] * X1[0] + W2[:,1] * X1[1] + W2[:,2]\n",
    "        A1 = sigmoid(Z1)\n",
    "        A2 = sigmoid(Z2)\n",
    "        Z3 = W3[:,0] * A1 + W3[:,1] * A2 + W3[:,2]\n",
    "        \n",
    "        prediction = Z3\n",
    "\n",
    "        # Calculate the error \n",
    "        error[i] = float(np.power(y1 - prediction,2))\n",
    "        i = i + 1\n",
    "\n",
    "        # Calculate the gradient\n",
    "\n",
    "        Grad_W1[0] = float(-2 * (y1 - prediction) * W3[:,0] * sigmoid(Z1) * (1-sigmoid(Z1)) * X1[0])\n",
    "        Grad_W1[1] = float(-2 * (y1 - prediction) * W3[:,0] * sigmoid(Z1) * (1-sigmoid(Z1)) * X1[1])\n",
    "        Grad_W1[2] = float(-2 * (y1 - prediction) * W3[:,0] * sigmoid(Z1) * (1-sigmoid(Z1)))\n",
    "\n",
    "        Grad_W2[0] = float(-2 * (y1 - prediction) * W3[:,1] * sigmoid(Z2) * (1-sigmoid(Z2)) * X1[0])\n",
    "        Grad_W2[1] = float(-2 * (y1 - prediction) * W3[:,1] * sigmoid(Z2) * (1-sigmoid(Z2)) * X1[1])\n",
    "        Grad_W2[2] = float(-2 * (y1 - prediction) * W3[:,1] * sigmoid(Z2) * (1-sigmoid(Z2)))\n",
    "\n",
    "        Grad_W3[0] = float(-2 * (y1 - prediction) * A1)\n",
    "        Grad_W3[1] = float(-2 * (y1 - prediction) * A2)\n",
    "        Grad_W3[2] = float(-2 * (y1 - prediction))\n",
    "\n",
    "        # Back propagation\n",
    "        W1 = W1 - (lr * np.array(Grad_W1))\n",
    "        W2 = W2 - (lr * np.array(Grad_W2))\n",
    "        W3 = W3 - (lr * np.array(Grad_W3))\n",
    "\n",
    "    mse.append(sum(error)/4)\n"
   ]
  },
  {
   "cell_type": "code",
   "execution_count": 153,
   "metadata": {},
   "outputs": [
    {
     "name": "stdout",
     "output_type": "stream",
     "text": [
      "[[ 2.2250347  -2.23868916 -1.31561913]]\n",
      "[[-2.84489058  2.86374475 -2.09347565]]\n",
      "[[ 2.51276161  2.54514987 -0.80981151]]\n"
     ]
    }
   ],
   "source": [
    "print(W1)\n",
    "print(W2)\n",
    "print(W3)"
   ]
  },
  {
   "cell_type": "code",
   "execution_count": 154,
   "metadata": {},
   "outputs": [
    {
     "name": "stdout",
     "output_type": "stream",
     "text": [
      "[[0 0]\n",
      " [0 1]\n",
      " [1 0]\n",
      " [1 1]]\n",
      "[0.0, 1.0, 1.0, 0.0]\n"
     ]
    }
   ],
   "source": [
    "# Predicciones\n",
    "predicciones = []\n",
    "for X1 in (X): \n",
    "    Z1 = W1[:,0] * X1[0] + W1[:,1] * X1[1] + W1[:,2]\n",
    "    Z2 = W2[:,0] * X1[0] + W2[:,1] * X1[1] + W2[:,2]\n",
    "    A1 = sigmoid(Z1)\n",
    "    A2 = sigmoid(Z2)\n",
    "    Z3 = W3[:,0] * A1 + W3[:,1] * A2 + W3[:,2]\n",
    "    prediction = Z3\n",
    "\n",
    "    predicciones.append(float(np.round(Z3, decimals=1)))\n",
    "\n",
    "print (X)\n",
    "print (predicciones)"
   ]
  },
  {
   "cell_type": "code",
   "execution_count": 155,
   "metadata": {},
   "outputs": [
    {
     "data": {
      "text/plain": [
       "[<matplotlib.lines.Line2D at 0x223c5191050>]"
      ]
     },
     "execution_count": 155,
     "metadata": {},
     "output_type": "execute_result"
    },
    {
     "data": {
      "image/png": "[encoded data removed]",
      "text/plain": [
       "<Figure size 640x480 with 1 Axes>"
      ]
     },
     "metadata": {},
     "output_type": "display_data"
    }
   ],
   "source": [
    "plt.plot(mse)"
   ]
  }
 ],
 "metadata": {
  "kernelspec": {
   "display_name": "EntornoDL",
   "language": "python",
   "name": "python3"
  },
  "language_info": {
   "codemirror_mode": {
    "name": "ipython",
    "version": 3
   },
   "file_extension": ".py",
   "mimetype": "text/x-python",
   "name": "python",
   "nbconvert_exporter": "python",
   "pygments_lexer": "ipython3",
   "version": "3.11.2"
  },
  "orig_nbformat": 4
 },
 "nbformat": 4,
 "nbformat_minor": 2
}
